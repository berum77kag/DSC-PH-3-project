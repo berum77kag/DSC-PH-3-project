{
 "cells": [
  {
   "cell_type": "code",
   "execution_count": 2,
   "metadata": {},
   "outputs": [],
   "source": [
    "from pptx import Presentation\n",
    "from pptx.util import Inches\n",
    "import nbformat\n"
   ]
  },
  {
   "cell_type": "code",
   "execution_count": 10,
   "metadata": {},
   "outputs": [],
   "source": [
    "# Load the data cleaning notebook\n",
    "with open(\"./GitPrac/DSC-PH-3-project/index.ipynb\") as f:\n",
    "    data_cleaning_nb = nbformat.read(f, as_version=4)\n",
    "\n",
    "# Extract relevant cells\n",
    "data_cleaning_content = []\n",
    "for cell in data_cleaning_nb['cells']:\n",
    "    if cell['cell_type'] == 'markdown':\n",
    "        data_cleaning_content.append(cell['source'])\n",
    "    elif cell['cell_type'] == 'code':\n",
    "        data_cleaning_content.append('```python\\n' + cell['source'] + '\\n```')\n",
    "\n",
    "data_cleaning_summary = \"\\n\\n\".join(data_cleaning_content)\n",
    "\n",
    "\n"
   ]
  },
  {
   "cell_type": "code",
   "execution_count": 11,
   "metadata": {},
   "outputs": [],
   "source": [
    "# Load the machine learning notebook\n",
    "with open(\"./GitPrac/DSC-PH-3-project/modeling.ipynb\") as f:\n",
    "    modeling_nb = nbformat.read(f, as_version=4)\n",
    "\n",
    "# Extract relevant cells\n",
    "modeling_content = []\n",
    "for cell in modeling_nb['cells']:\n",
    "    if cell['cell_type'] == 'markdown':\n",
    "        modeling_content.append(cell['source'])\n",
    "    elif cell['cell_type'] == 'code':\n",
    "        modeling_content.append('```python\\n' + cell['source'] + '\\n```')\n",
    "\n",
    "modeling_summary = \"\\n\\n\".join(modeling_content)"
   ]
  },
  {
   "cell_type": "code",
   "execution_count": 15,
   "metadata": {},
   "outputs": [
    {
     "ename": "FileNotFoundError",
     "evalue": "[Errno 2] No such file or directory: './Data/Water_Pump_Project_Presentation.pptx'",
     "output_type": "error",
     "traceback": [
      "\u001b[1;31m---------------------------------------------------------------------------\u001b[0m",
      "\u001b[1;31mFileNotFoundError\u001b[0m                         Traceback (most recent call last)",
      "File \u001b[1;32mc:\\Users\\Bee\\anaconda3\\envs\\learn-env\\lib\\site-packages\\pptx\\opc\\serialized.py:81\u001b[0m, in \u001b[0;36mPackageWriter._write\u001b[1;34m(self)\u001b[0m\n\u001b[0;32m     80\u001b[0m \u001b[38;5;28;01mwith\u001b[39;00m _PhysPkgWriter\u001b[38;5;241m.\u001b[39mfactory(\u001b[38;5;28mself\u001b[39m\u001b[38;5;241m.\u001b[39m_pkg_file) \u001b[38;5;28;01mas\u001b[39;00m phys_writer:\n\u001b[1;32m---> 81\u001b[0m     \u001b[38;5;28;43mself\u001b[39;49m\u001b[38;5;241;43m.\u001b[39;49m\u001b[43m_write_content_types_stream\u001b[49m\u001b[43m(\u001b[49m\u001b[43mphys_writer\u001b[49m\u001b[43m)\u001b[49m\n\u001b[0;32m     82\u001b[0m     \u001b[38;5;28mself\u001b[39m\u001b[38;5;241m.\u001b[39m_write_pkg_rels(phys_writer)\n",
      "File \u001b[1;32mc:\\Users\\Bee\\anaconda3\\envs\\learn-env\\lib\\site-packages\\pptx\\opc\\serialized.py:91\u001b[0m, in \u001b[0;36mPackageWriter._write_content_types_stream\u001b[1;34m(self, phys_writer)\u001b[0m\n\u001b[0;32m     86\u001b[0m \u001b[38;5;250m\u001b[39m\u001b[38;5;124;03m\"\"\"Write `[Content_Types].xml` part to the physical package.\u001b[39;00m\n\u001b[0;32m     87\u001b[0m \n\u001b[0;32m     88\u001b[0m \u001b[38;5;124;03mThis part must contain an appropriate content type lookup target for each part\u001b[39;00m\n\u001b[0;32m     89\u001b[0m \u001b[38;5;124;03min the package.\u001b[39;00m\n\u001b[0;32m     90\u001b[0m \u001b[38;5;124;03m\"\"\"\u001b[39;00m\n\u001b[1;32m---> 91\u001b[0m \u001b[43mphys_writer\u001b[49m\u001b[38;5;241;43m.\u001b[39;49m\u001b[43mwrite\u001b[49m\u001b[43m(\u001b[49m\n\u001b[0;32m     92\u001b[0m \u001b[43m    \u001b[49m\u001b[43mCONTENT_TYPES_URI\u001b[49m\u001b[43m,\u001b[49m\n\u001b[0;32m     93\u001b[0m \u001b[43m    \u001b[49m\u001b[43mserialize_part_xml\u001b[49m\u001b[43m(\u001b[49m\u001b[43m_ContentTypesItem\u001b[49m\u001b[38;5;241;43m.\u001b[39;49m\u001b[43mxml_for\u001b[49m\u001b[43m(\u001b[49m\u001b[38;5;28;43mself\u001b[39;49m\u001b[38;5;241;43m.\u001b[39;49m\u001b[43m_parts\u001b[49m\u001b[43m)\u001b[49m\u001b[43m)\u001b[49m\u001b[43m,\u001b[49m\n\u001b[0;32m     94\u001b[0m \u001b[43m\u001b[49m\u001b[43m)\u001b[49m\n",
      "File \u001b[1;32mc:\\Users\\Bee\\anaconda3\\envs\\learn-env\\lib\\site-packages\\pptx\\opc\\serialized.py:220\u001b[0m, in \u001b[0;36m_ZipPkgWriter.write\u001b[1;34m(self, pack_uri, blob)\u001b[0m\n\u001b[0;32m    219\u001b[0m \u001b[38;5;250m\u001b[39m\u001b[38;5;124;03m\"\"\"Write `blob` to zip package with membername corresponding to `pack_uri`.\"\"\"\u001b[39;00m\n\u001b[1;32m--> 220\u001b[0m \u001b[38;5;28;43mself\u001b[39;49m\u001b[38;5;241;43m.\u001b[39;49m\u001b[43m_zipf\u001b[49m\u001b[38;5;241m.\u001b[39mwritestr(pack_uri\u001b[38;5;241m.\u001b[39mmembername, blob)\n",
      "File \u001b[1;32mc:\\Users\\Bee\\anaconda3\\envs\\learn-env\\lib\\site-packages\\pptx\\util.py:215\u001b[0m, in \u001b[0;36mlazyproperty.__get__\u001b[1;34m(self, obj, type)\u001b[0m\n\u001b[0;32m    211\u001b[0m \u001b[38;5;28;01mif\u001b[39;00m value \u001b[38;5;129;01mis\u001b[39;00m \u001b[38;5;28;01mNone\u001b[39;00m:\n\u001b[0;32m    212\u001b[0m     \u001b[38;5;66;03m# ---on first access, __dict__ item will absent. Evaluate fget()\u001b[39;00m\n\u001b[0;32m    213\u001b[0m     \u001b[38;5;66;03m# ---and store that value in the (otherwise unused) host-object\u001b[39;00m\n\u001b[0;32m    214\u001b[0m     \u001b[38;5;66;03m# ---__dict__ value of same name ('fget' nominally)\u001b[39;00m\n\u001b[1;32m--> 215\u001b[0m     value \u001b[38;5;241m=\u001b[39m \u001b[38;5;28;43mself\u001b[39;49m\u001b[38;5;241;43m.\u001b[39;49m\u001b[43m_fget\u001b[49m\u001b[43m(\u001b[49m\u001b[43mobj\u001b[49m\u001b[43m)\u001b[49m\n\u001b[0;32m    216\u001b[0m     obj\u001b[38;5;241m.\u001b[39m\u001b[38;5;18m__dict__\u001b[39m[\u001b[38;5;28mself\u001b[39m\u001b[38;5;241m.\u001b[39m\u001b[38;5;18m__name__\u001b[39m] \u001b[38;5;241m=\u001b[39m value\n",
      "File \u001b[1;32mc:\\Users\\Bee\\anaconda3\\envs\\learn-env\\lib\\site-packages\\pptx\\opc\\serialized.py:225\u001b[0m, in \u001b[0;36m_ZipPkgWriter._zipf\u001b[1;34m(self)\u001b[0m\n\u001b[0;32m    224\u001b[0m \u001b[38;5;250m\u001b[39m\u001b[38;5;124;03m\"\"\"`ZipFile` instance open for writing.\"\"\"\u001b[39;00m\n\u001b[1;32m--> 225\u001b[0m \u001b[38;5;28;01mreturn\u001b[39;00m \u001b[43mzipfile\u001b[49m\u001b[38;5;241;43m.\u001b[39;49m\u001b[43mZipFile\u001b[49m\u001b[43m(\u001b[49m\u001b[38;5;28;43mself\u001b[39;49m\u001b[38;5;241;43m.\u001b[39;49m\u001b[43m_pkg_file\u001b[49m\u001b[43m,\u001b[49m\u001b[43m \u001b[49m\u001b[38;5;124;43m\"\u001b[39;49m\u001b[38;5;124;43mw\u001b[39;49m\u001b[38;5;124;43m\"\u001b[39;49m\u001b[43m,\u001b[49m\u001b[43m \u001b[49m\u001b[43mcompression\u001b[49m\u001b[38;5;241;43m=\u001b[39;49m\u001b[43mzipfile\u001b[49m\u001b[38;5;241;43m.\u001b[39;49m\u001b[43mZIP_DEFLATED\u001b[49m\u001b[43m)\u001b[49m\n",
      "File \u001b[1;32mc:\\Users\\Bee\\anaconda3\\envs\\learn-env\\lib\\zipfile.py:1251\u001b[0m, in \u001b[0;36mZipFile.__init__\u001b[1;34m(self, file, mode, compression, allowZip64, compresslevel, strict_timestamps)\u001b[0m\n\u001b[0;32m   1250\u001b[0m \u001b[38;5;28;01mtry\u001b[39;00m:\n\u001b[1;32m-> 1251\u001b[0m     \u001b[38;5;28mself\u001b[39m\u001b[38;5;241m.\u001b[39mfp \u001b[38;5;241m=\u001b[39m \u001b[43mio\u001b[49m\u001b[38;5;241;43m.\u001b[39;49m\u001b[43mopen\u001b[49m\u001b[43m(\u001b[49m\u001b[43mfile\u001b[49m\u001b[43m,\u001b[49m\u001b[43m \u001b[49m\u001b[43mfilemode\u001b[49m\u001b[43m)\u001b[49m\n\u001b[0;32m   1252\u001b[0m \u001b[38;5;28;01mexcept\u001b[39;00m \u001b[38;5;167;01mOSError\u001b[39;00m:\n",
      "\u001b[1;31mFileNotFoundError\u001b[0m: [Errno 2] No such file or directory: './Data/Water_Pump_Project_Presentation.pptx'",
      "\nDuring handling of the above exception, another exception occurred:\n",
      "\u001b[1;31mFileNotFoundError\u001b[0m                         Traceback (most recent call last)",
      "Input \u001b[1;32mIn [15]\u001b[0m, in \u001b[0;36m<cell line: 38>\u001b[1;34m()\u001b[0m\n\u001b[0;32m     35\u001b[0m add_slide(\u001b[38;5;124m\"\u001b[39m\u001b[38;5;124mQ&A\u001b[39m\u001b[38;5;124m\"\u001b[39m, \u001b[38;5;124m\"\u001b[39m\u001b[38;5;124mOpen the floor for questions.\u001b[39m\u001b[38;5;124m\"\u001b[39m)\n\u001b[0;32m     37\u001b[0m \u001b[38;5;66;03m# Save the presentation\u001b[39;00m\n\u001b[1;32m---> 38\u001b[0m \u001b[43mprs\u001b[49m\u001b[38;5;241;43m.\u001b[39;49m\u001b[43msave\u001b[49m\u001b[43m(\u001b[49m\u001b[38;5;124;43m\"\u001b[39;49m\u001b[38;5;124;43m./Data/Water_Pump_Project_Presentation.pptx\u001b[39;49m\u001b[38;5;124;43m\"\u001b[39;49m\u001b[43m)\u001b[49m\n",
      "File \u001b[1;32mc:\\Users\\Bee\\anaconda3\\envs\\learn-env\\lib\\site-packages\\pptx\\presentation.py:39\u001b[0m, in \u001b[0;36mPresentation.save\u001b[1;34m(self, file)\u001b[0m\n\u001b[0;32m     34\u001b[0m \u001b[38;5;28;01mdef\u001b[39;00m \u001b[38;5;21msave\u001b[39m(\u001b[38;5;28mself\u001b[39m, file):\n\u001b[0;32m     35\u001b[0m \u001b[38;5;250m    \u001b[39m\u001b[38;5;124;03m\"\"\"\u001b[39;00m\n\u001b[0;32m     36\u001b[0m \u001b[38;5;124;03m    Save this presentation to *file*, where *file* can be either a path\u001b[39;00m\n\u001b[0;32m     37\u001b[0m \u001b[38;5;124;03m    to a file (a string) or a file-like object.\u001b[39;00m\n\u001b[0;32m     38\u001b[0m \u001b[38;5;124;03m    \"\"\"\u001b[39;00m\n\u001b[1;32m---> 39\u001b[0m     \u001b[38;5;28;43mself\u001b[39;49m\u001b[38;5;241;43m.\u001b[39;49m\u001b[43mpart\u001b[49m\u001b[38;5;241;43m.\u001b[39;49m\u001b[43msave\u001b[49m\u001b[43m(\u001b[49m\u001b[43mfile\u001b[49m\u001b[43m)\u001b[49m\n",
      "File \u001b[1;32mc:\\Users\\Bee\\anaconda3\\envs\\learn-env\\lib\\site-packages\\pptx\\parts\\presentation.py:107\u001b[0m, in \u001b[0;36mPresentationPart.save\u001b[1;34m(self, path_or_stream)\u001b[0m\n\u001b[0;32m    101\u001b[0m \u001b[38;5;28;01mdef\u001b[39;00m \u001b[38;5;21msave\u001b[39m(\u001b[38;5;28mself\u001b[39m, path_or_stream):\n\u001b[0;32m    102\u001b[0m \u001b[38;5;250m    \u001b[39m\u001b[38;5;124;03m\"\"\"Save this presentation package to `path_or_stream`.\u001b[39;00m\n\u001b[0;32m    103\u001b[0m \n\u001b[0;32m    104\u001b[0m \u001b[38;5;124;03m    `path_or_stream` can be either a path to a filesystem location (a string) or a\u001b[39;00m\n\u001b[0;32m    105\u001b[0m \u001b[38;5;124;03m    file-like object.\u001b[39;00m\n\u001b[0;32m    106\u001b[0m \u001b[38;5;124;03m    \"\"\"\u001b[39;00m\n\u001b[1;32m--> 107\u001b[0m     \u001b[38;5;28;43mself\u001b[39;49m\u001b[38;5;241;43m.\u001b[39;49m\u001b[43mpackage\u001b[49m\u001b[38;5;241;43m.\u001b[39;49m\u001b[43msave\u001b[49m\u001b[43m(\u001b[49m\u001b[43mpath_or_stream\u001b[49m\u001b[43m)\u001b[49m\n",
      "File \u001b[1;32mc:\\Users\\Bee\\anaconda3\\envs\\learn-env\\lib\\site-packages\\pptx\\opc\\package.py:153\u001b[0m, in \u001b[0;36mOpcPackage.save\u001b[1;34m(self, pkg_file)\u001b[0m\n\u001b[0;32m    148\u001b[0m \u001b[38;5;28;01mdef\u001b[39;00m \u001b[38;5;21msave\u001b[39m(\u001b[38;5;28mself\u001b[39m, pkg_file):\n\u001b[0;32m    149\u001b[0m \u001b[38;5;250m    \u001b[39m\u001b[38;5;124;03m\"\"\"Save this package to `pkg_file`.\u001b[39;00m\n\u001b[0;32m    150\u001b[0m \n\u001b[0;32m    151\u001b[0m \u001b[38;5;124;03m    `file` can be either a path to a file (a string) or a file-like object.\u001b[39;00m\n\u001b[0;32m    152\u001b[0m \u001b[38;5;124;03m    \"\"\"\u001b[39;00m\n\u001b[1;32m--> 153\u001b[0m     \u001b[43mPackageWriter\u001b[49m\u001b[38;5;241;43m.\u001b[39;49m\u001b[43mwrite\u001b[49m\u001b[43m(\u001b[49m\u001b[43mpkg_file\u001b[49m\u001b[43m,\u001b[49m\u001b[43m \u001b[49m\u001b[38;5;28;43mself\u001b[39;49m\u001b[38;5;241;43m.\u001b[39;49m\u001b[43m_rels\u001b[49m\u001b[43m,\u001b[49m\u001b[43m \u001b[49m\u001b[38;5;28;43mtuple\u001b[39;49m\u001b[43m(\u001b[49m\u001b[38;5;28;43mself\u001b[39;49m\u001b[38;5;241;43m.\u001b[39;49m\u001b[43miter_parts\u001b[49m\u001b[43m(\u001b[49m\u001b[43m)\u001b[49m\u001b[43m)\u001b[49m\u001b[43m)\u001b[49m\n",
      "File \u001b[1;32mc:\\Users\\Bee\\anaconda3\\envs\\learn-env\\lib\\site-packages\\pptx\\opc\\serialized.py:76\u001b[0m, in \u001b[0;36mPackageWriter.write\u001b[1;34m(cls, pkg_file, pkg_rels, parts)\u001b[0m\n\u001b[0;32m     68\u001b[0m \u001b[38;5;129m@classmethod\u001b[39m\n\u001b[0;32m     69\u001b[0m \u001b[38;5;28;01mdef\u001b[39;00m \u001b[38;5;21mwrite\u001b[39m(\u001b[38;5;28mcls\u001b[39m, pkg_file, pkg_rels, parts):\n\u001b[0;32m     70\u001b[0m \u001b[38;5;250m    \u001b[39m\u001b[38;5;124;03m\"\"\"Write a physical package (.pptx file) to `pkg_file`.\u001b[39;00m\n\u001b[0;32m     71\u001b[0m \n\u001b[0;32m     72\u001b[0m \u001b[38;5;124;03m    The serialized package contains `pkg_rels` and `parts`, a content-types stream\u001b[39;00m\n\u001b[0;32m     73\u001b[0m \u001b[38;5;124;03m    based on the content type of each part, and a .rels file for each part that has\u001b[39;00m\n\u001b[0;32m     74\u001b[0m \u001b[38;5;124;03m    relationships.\u001b[39;00m\n\u001b[0;32m     75\u001b[0m \u001b[38;5;124;03m    \"\"\"\u001b[39;00m\n\u001b[1;32m---> 76\u001b[0m     \u001b[38;5;28;43mcls\u001b[39;49m\u001b[43m(\u001b[49m\u001b[43mpkg_file\u001b[49m\u001b[43m,\u001b[49m\u001b[43m \u001b[49m\u001b[43mpkg_rels\u001b[49m\u001b[43m,\u001b[49m\u001b[43m \u001b[49m\u001b[43mparts\u001b[49m\u001b[43m)\u001b[49m\u001b[38;5;241;43m.\u001b[39;49m\u001b[43m_write\u001b[49m\u001b[43m(\u001b[49m\u001b[43m)\u001b[49m\n",
      "File \u001b[1;32mc:\\Users\\Bee\\anaconda3\\envs\\learn-env\\lib\\site-packages\\pptx\\opc\\serialized.py:83\u001b[0m, in \u001b[0;36mPackageWriter._write\u001b[1;34m(self)\u001b[0m\n\u001b[0;32m     81\u001b[0m \u001b[38;5;28mself\u001b[39m\u001b[38;5;241m.\u001b[39m_write_content_types_stream(phys_writer)\n\u001b[0;32m     82\u001b[0m \u001b[38;5;28mself\u001b[39m\u001b[38;5;241m.\u001b[39m_write_pkg_rels(phys_writer)\n\u001b[1;32m---> 83\u001b[0m \u001b[38;5;28mself\u001b[39m\u001b[38;5;241m.\u001b[39m_write_parts(phys_writer)\n",
      "File \u001b[1;32mc:\\Users\\Bee\\anaconda3\\envs\\learn-env\\lib\\site-packages\\pptx\\opc\\serialized.py:216\u001b[0m, in \u001b[0;36m_ZipPkgWriter.__exit__\u001b[1;34m(self, exc_type, exc_value, exc_traceback)\u001b[0m\n\u001b[0;32m    210\u001b[0m \u001b[38;5;28;01mdef\u001b[39;00m \u001b[38;5;21m__exit__\u001b[39m(\u001b[38;5;28mself\u001b[39m, exc_type, exc_value, exc_traceback):\n\u001b[0;32m    211\u001b[0m \u001b[38;5;250m    \u001b[39m\u001b[38;5;124;03m\"\"\"Close the zip archive on exit from context.\u001b[39;00m\n\u001b[0;32m    212\u001b[0m \n\u001b[0;32m    213\u001b[0m \u001b[38;5;124;03m    Closing flushes any pending physical writes and releasing any resources it's\u001b[39;00m\n\u001b[0;32m    214\u001b[0m \u001b[38;5;124;03m    using.\u001b[39;00m\n\u001b[0;32m    215\u001b[0m \u001b[38;5;124;03m    \"\"\"\u001b[39;00m\n\u001b[1;32m--> 216\u001b[0m     \u001b[38;5;28;43mself\u001b[39;49m\u001b[38;5;241;43m.\u001b[39;49m\u001b[43m_zipf\u001b[49m\u001b[38;5;241m.\u001b[39mclose()\n",
      "File \u001b[1;32mc:\\Users\\Bee\\anaconda3\\envs\\learn-env\\lib\\site-packages\\pptx\\util.py:215\u001b[0m, in \u001b[0;36mlazyproperty.__get__\u001b[1;34m(self, obj, type)\u001b[0m\n\u001b[0;32m    210\u001b[0m value \u001b[38;5;241m=\u001b[39m obj\u001b[38;5;241m.\u001b[39m\u001b[38;5;18m__dict__\u001b[39m\u001b[38;5;241m.\u001b[39mget(\u001b[38;5;28mself\u001b[39m\u001b[38;5;241m.\u001b[39m\u001b[38;5;18m__name__\u001b[39m)\n\u001b[0;32m    211\u001b[0m \u001b[38;5;28;01mif\u001b[39;00m value \u001b[38;5;129;01mis\u001b[39;00m \u001b[38;5;28;01mNone\u001b[39;00m:\n\u001b[0;32m    212\u001b[0m     \u001b[38;5;66;03m# ---on first access, __dict__ item will absent. Evaluate fget()\u001b[39;00m\n\u001b[0;32m    213\u001b[0m     \u001b[38;5;66;03m# ---and store that value in the (otherwise unused) host-object\u001b[39;00m\n\u001b[0;32m    214\u001b[0m     \u001b[38;5;66;03m# ---__dict__ value of same name ('fget' nominally)\u001b[39;00m\n\u001b[1;32m--> 215\u001b[0m     value \u001b[38;5;241m=\u001b[39m \u001b[38;5;28;43mself\u001b[39;49m\u001b[38;5;241;43m.\u001b[39;49m\u001b[43m_fget\u001b[49m\u001b[43m(\u001b[49m\u001b[43mobj\u001b[49m\u001b[43m)\u001b[49m\n\u001b[0;32m    216\u001b[0m     obj\u001b[38;5;241m.\u001b[39m\u001b[38;5;18m__dict__\u001b[39m[\u001b[38;5;28mself\u001b[39m\u001b[38;5;241m.\u001b[39m\u001b[38;5;18m__name__\u001b[39m] \u001b[38;5;241m=\u001b[39m value\n\u001b[0;32m    217\u001b[0m \u001b[38;5;28;01mreturn\u001b[39;00m value\n",
      "File \u001b[1;32mc:\\Users\\Bee\\anaconda3\\envs\\learn-env\\lib\\site-packages\\pptx\\opc\\serialized.py:225\u001b[0m, in \u001b[0;36m_ZipPkgWriter._zipf\u001b[1;34m(self)\u001b[0m\n\u001b[0;32m    222\u001b[0m \u001b[38;5;129m@lazyproperty\u001b[39m\n\u001b[0;32m    223\u001b[0m \u001b[38;5;28;01mdef\u001b[39;00m \u001b[38;5;21m_zipf\u001b[39m(\u001b[38;5;28mself\u001b[39m):\n\u001b[0;32m    224\u001b[0m \u001b[38;5;250m    \u001b[39m\u001b[38;5;124;03m\"\"\"`ZipFile` instance open for writing.\"\"\"\u001b[39;00m\n\u001b[1;32m--> 225\u001b[0m     \u001b[38;5;28;01mreturn\u001b[39;00m \u001b[43mzipfile\u001b[49m\u001b[38;5;241;43m.\u001b[39;49m\u001b[43mZipFile\u001b[49m\u001b[43m(\u001b[49m\u001b[38;5;28;43mself\u001b[39;49m\u001b[38;5;241;43m.\u001b[39;49m\u001b[43m_pkg_file\u001b[49m\u001b[43m,\u001b[49m\u001b[43m \u001b[49m\u001b[38;5;124;43m\"\u001b[39;49m\u001b[38;5;124;43mw\u001b[39;49m\u001b[38;5;124;43m\"\u001b[39;49m\u001b[43m,\u001b[49m\u001b[43m \u001b[49m\u001b[43mcompression\u001b[49m\u001b[38;5;241;43m=\u001b[39;49m\u001b[43mzipfile\u001b[49m\u001b[38;5;241;43m.\u001b[39;49m\u001b[43mZIP_DEFLATED\u001b[49m\u001b[43m)\u001b[49m\n",
      "File \u001b[1;32mc:\\Users\\Bee\\anaconda3\\envs\\learn-env\\lib\\zipfile.py:1251\u001b[0m, in \u001b[0;36mZipFile.__init__\u001b[1;34m(self, file, mode, compression, allowZip64, compresslevel, strict_timestamps)\u001b[0m\n\u001b[0;32m   1249\u001b[0m \u001b[38;5;28;01mwhile\u001b[39;00m \u001b[38;5;28;01mTrue\u001b[39;00m:\n\u001b[0;32m   1250\u001b[0m     \u001b[38;5;28;01mtry\u001b[39;00m:\n\u001b[1;32m-> 1251\u001b[0m         \u001b[38;5;28mself\u001b[39m\u001b[38;5;241m.\u001b[39mfp \u001b[38;5;241m=\u001b[39m \u001b[43mio\u001b[49m\u001b[38;5;241;43m.\u001b[39;49m\u001b[43mopen\u001b[49m\u001b[43m(\u001b[49m\u001b[43mfile\u001b[49m\u001b[43m,\u001b[49m\u001b[43m \u001b[49m\u001b[43mfilemode\u001b[49m\u001b[43m)\u001b[49m\n\u001b[0;32m   1252\u001b[0m     \u001b[38;5;28;01mexcept\u001b[39;00m \u001b[38;5;167;01mOSError\u001b[39;00m:\n\u001b[0;32m   1253\u001b[0m         \u001b[38;5;28;01mif\u001b[39;00m filemode \u001b[38;5;129;01min\u001b[39;00m modeDict:\n",
      "\u001b[1;31mFileNotFoundError\u001b[0m: [Errno 2] No such file or directory: './Data/Water_Pump_Project_Presentation.pptx'"
     ]
    }
   ],
   "source": [
    "# Create a presentation object\n",
    "prs = Presentation()\n",
    "\n",
    "# Add title slide\n",
    "slide = prs.slides.add_slide(prs.slide_layouts[0])\n",
    "title = slide.shapes.title\n",
    "subtitle = slide.placeholders[1]\n",
    "\n",
    "title.text = \"Water Pump Project Overview\"\n",
    "subtitle.text = \"Data Cleaning and Machine Learning Preparation\"\n",
    "\n",
    "# Function to add slides\n",
    "def add_slide(title_text, content_text):\n",
    "    slide = prs.slides.add_slide(prs.slide_layouts[1])\n",
    "    title = slide.shapes.title\n",
    "    content = slide.placeholders[1]\n",
    "    \n",
    "    title.text = title_text\n",
    "    content.text = content_text\n",
    "\n",
    "# Adding slides for each section\n",
    "add_slide(\"Introduction\", \"Brief overview of the project and objectives.\")\n",
    "add_slide(\"Dataset Overview\", data_cleaning_content[0])  # Example content\n",
    "add_slide(\"Data Cleaning Process\", data_cleaning_content[1])  # Example content\n",
    "add_slide(\"Feature Engineering\", data_cleaning_content[2])  # Example content\n",
    "add_slide(\"Outlier Detection and Treatment\", data_cleaning_content[3])  # Example content\n",
    "add_slide(\"Final Dataset Overview\", data_cleaning_content[4])  # Example content\n",
    "add_slide(\"Model Selection\", modeling_content[0])  # Example content\n",
    "add_slide(\"Data Splitting\", modeling_content[1])  # Example content\n",
    "add_slide(\"Feature Scaling and Encoding\", modeling_content[2])  # Example content\n",
    "add_slide(\"Model Training and Evaluation\", modeling_content[3])  # Example content\n",
    "add_slide(\"Hyperparameter Tuning\", modeling_content[4])  # Example content\n",
    "add_slide(\"Final Model Performance\", modeling_content[5])  # Example content\n",
    "add_slide(\"Conclusion\", \"Summary of key findings, recommendations, and next steps.\")\n",
    "add_slide(\"Q&A\", \"Open the floor for questions.\")\n",
    "\n",
    "# Save the presentation\n",
    "prs.save(\"C:\\Users\\Bee\\Documents\\Predicting_Failing_Waterpumps_for_NGOs\\presentation.pdf\")"
   ]
  },
  {
   "cell_type": "code",
   "execution_count": null,
   "metadata": {},
   "outputs": [],
   "source": []
  }
 ],
 "metadata": {
  "kernelspec": {
   "display_name": "learn-env",
   "language": "python",
   "name": "python3"
  },
  "language_info": {
   "codemirror_mode": {
    "name": "ipython",
    "version": 3
   },
   "file_extension": ".py",
   "mimetype": "text/x-python",
   "name": "python",
   "nbconvert_exporter": "python",
   "pygments_lexer": "ipython3",
   "version": "3.8.5"
  }
 },
 "nbformat": 4,
 "nbformat_minor": 2
}
